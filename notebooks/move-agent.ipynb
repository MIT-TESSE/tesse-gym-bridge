{
 "cells": [
  {
   "cell_type": "markdown",
   "metadata": {},
   "source": [
    "### Disclaimer\n",
    "\n",
    "Distribution authorized to U.S. Government agencies and their contractors. Other requests for this document shall be referred to the MIT Lincoln Laboratory Technology Office.\n",
    "\n",
    "This material is based upon work supported by the Under Secretary of Defense for Research and Engineering under Air Force Contract No. FA8702-15-D-0001. Any opinions, findings, conclusions or recommendations expressed in this material are those of the author(s) and do not necessarily reflect the views of the Under Secretary of Defense for Research and Engineering.\n",
    "\n",
    "© 2019 Massachusetts Institute of Technology.\n",
    "\n",
    "The software/firmware is provided to you on an As-Is basis\n",
    "\n",
    "Delivered to the U.S. Government with Unlimited Rights, as defined in DFARS Part 252.227-7013 or 7014 (Feb 2014). Notwithstanding any copyright notice, U.S. Government rights in this work are defined by DFARS 252.227-7013 or DFARS 252.227-7014 as detailed above. Use of this work other than as specifically authorized by the U.S. Government may violate any copyrights that exist in this work.\n"
   ]
  },
  {
   "cell_type": "markdown",
   "metadata": {},
   "source": [
    "Notebook to control an agent through a tesse-gym environment"
   ]
  },
  {
   "cell_type": "code",
   "execution_count": null,
   "metadata": {},
   "outputs": [],
   "source": [
    "from pathlib import Path\n",
    "from pynput.keyboard import Key, Listener, KeyCode\n",
    "import matplotlib.pyplot as plt\n",
    "from tesse.env import Env\n",
    "from tesse.msgs import *\n",
    "\n",
    "%load_ext autoreload\n",
    "%autoreload 2\n",
    "from tesse_gym.tasks.goseek import GoSeek\n",
    "from tesse_gym import get_network_config, NetworkConfig"
   ]
  },
  {
   "cell_type": "markdown",
   "metadata": {},
   "source": [
    "### launch environment"
   ]
  },
  {
   "cell_type": "code",
   "execution_count": null,
   "metadata": {},
   "outputs": [],
   "source": [
    "scene_id           = 1\n",
    "n_targets          = 30\n",
    "max_steps          = 300\n",
    "step_rate          = 20\n",
    "ground_truth_mode  = False\n",
    "img_shapes = (-1, 240, 320, 5)\n",
    "# point image and metadata ports to ROS interface\n",
    "\n",
    "if ground_truth_mode:\n",
    "    network_config = NetworkConfig() \n",
    "else:\n",
    "    network_config = NetworkConfig(metadata_port=9007, image_port=9008)"
   ]
  },
  {
   "cell_type": "code",
   "execution_count": null,
   "metadata": {},
   "outputs": [],
   "source": [
    "env = GoSeek(build_path='', \n",
    "               network_config=network_config,\n",
    "               episode_length=max_steps,\n",
    "               step_rate=step_rate,\n",
    "               ground_truth_mode=ground_truth_mode)"
   ]
  },
  {
   "cell_type": "markdown",
   "metadata": {},
   "source": [
    "### Control agent\n",
    "Run this cell to use keyboard control with commands \n",
    "\n",
    "- i      : Forward\n",
    "- l      : Turn left\n",
    "- j      : Turn right\n",
    "- escape /q: quit"
   ]
  },
  {
   "cell_type": "code",
   "execution_count": null,
   "metadata": {},
   "outputs": [],
   "source": [
    "def on_press(key):\n",
    "    if key == KeyCode.from_char('i'):\n",
    "        obs, _, _, _ = env.step(0)\n",
    "    elif key == KeyCode.from_char('l'):\n",
    "        obs, _, _, _ = env.step(1)\n",
    "    elif key == KeyCode.from_char('j'):\n",
    "        obs, _, _, _ = env.step(2)\n",
    "        \n",
    "def on_release(key):\n",
    "    if key == Key.esc or key == KeyCode.from_char('q'):\n",
    "        return False\n",
    "    \n",
    "with Listener(on_press=on_press, on_release=on_release) as listener:\n",
    "    listener.join()"
   ]
  },
  {
   "cell_type": "markdown",
   "metadata": {},
   "source": [
    "### Plot observation"
   ]
  },
  {
   "cell_type": "code",
   "execution_count": null,
   "metadata": {},
   "outputs": [],
   "source": [
    "obs, reward, episode_done, info = env.step(1)"
   ]
  },
  {
   "cell_type": "code",
   "execution_count": null,
   "metadata": {},
   "outputs": [],
   "source": [
    "fig, ax = plt.subplots()\n",
    "\n",
    "ax.imshow(obs)"
   ]
  },
  {
   "cell_type": "code",
   "execution_count": null,
   "metadata": {},
   "outputs": [],
   "source": []
  }
 ],
 "metadata": {
  "kernelspec": {
   "display_name": "Python [conda env:tess]",
   "language": "python",
   "name": "conda-env-tess-py"
  },
  "language_info": {
   "codemirror_mode": {
    "name": "ipython",
    "version": 3
   },
   "file_extension": ".py",
   "mimetype": "text/x-python",
   "name": "python",
   "nbconvert_exporter": "python",
   "pygments_lexer": "ipython3",
   "version": "3.7.5"
  }
 },
 "nbformat": 4,
 "nbformat_minor": 2
}
